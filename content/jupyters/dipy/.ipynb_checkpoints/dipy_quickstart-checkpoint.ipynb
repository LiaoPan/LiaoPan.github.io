{
 "cells": [
  {
   "cell_type": "code",
   "execution_count": 1,
   "metadata": {},
   "outputs": [
    {
     "name": "stdout",
     "output_type": "stream",
     "text": [
      "DIPY VERSION: 1.5.0\n",
      "PYTHON VERSION: 3.8.5\n"
     ]
    }
   ],
   "source": [
    "import dipy as dp\n",
    "import platform\n",
    "print(\"DIPY VERSION:\",dp.__version__)\n",
    "print(\"PYTHON VERSION:\",platform.python_version())"
   ]
  },
  {
   "cell_type": "code",
   "execution_count": 5,
   "metadata": {},
   "outputs": [],
   "source": [
    "from dipy.workflows.io import FetchFlow\n",
    "from tempfile import TemporaryDirectory # 官网上没有写，记得加上，不然后续报错"
   ]
  },
  {
   "cell_type": "code",
   "execution_count": 3,
   "metadata": {},
   "outputs": [
    {
     "name": "stdout",
     "output_type": "stream",
     "text": [
      "供下载的数据集名称:\n",
      " dict_keys(['bundle_atlas_hcp842', 'bundle_fa_hcp', 'bundles_2_subjects', 'cenir_multib', 'cfin_multib', 'file_formats', 'fury_surface', 'gold_standard_io', 'isbi2013_2shell', 'ivim', 'mni_template', 'qtdMRI_test_retest_2subjects', 'qte_lte_pte', 'resdnn_weights', 'scil_b0', 'sherbrooke_3shell', 'stanford_hardi', 'stanford_labels', 'stanford_pve_maps', 'stanford_t1', 'syn_data', 'taiwan_ntu_dsi', 'target_tractogram_hcp', 'tissue_data'])\n"
     ]
    }
   ],
   "source": [
    "available_data = FetchFlow.get_fetcher_datanames().keys()\n",
    "print(\"供下载的数据集名称:\\n\",available_data)\n",
    "\n",
    "# 或者访问https://dipy.org/documentation/1.5.0/data/#datasets，可在表格DIPY name一列查看所需数据集的名称"
   ]
  },
  {
   "cell_type": "code",
   "execution_count": null,
   "metadata": {},
   "outputs": [],
   "source": [
    "# 方式一:下载特定数据集\n",
    "fetch_flow = FetchFlow()\n",
    "with TemporaryDirectory() as outdir:\n",
    "    print(\"download dir:\",outdir)\n",
    "    fetch_flow.run(['bundle_fa_hcp'])"
   ]
  },
  {
   "cell_type": "code",
   "execution_count": null,
   "metadata": {},
   "outputs": [
    {
     "data": {
      "application/vnd.jupyter.widget-view+json": {
       "model_id": "3dc78fd3995c40fd8073b2e4ad5080f8",
       "version_major": 2,
       "version_minor": 0
      },
      "text/plain": [
       "  0%|          | 0/19503 [00:00<?, ? MB/s]"
      ]
     },
     "metadata": {},
     "output_type": "display_data"
    }
   ],
   "source": [
    "# 方式二: from dipy.data import fetch_<上面特定数据集的名称>\n",
    "from dipy.data import fetch_bundle_atlas_hcp842\n",
    "files,folder = fetch_bundle_atlas_hcp842()\n",
    "print(\"files:\",files,\"\\n folder:\",folder)"
   ]
  }
 ],
 "metadata": {
  "kernelspec": {
   "display_name": "Python 3",
   "language": "python",
   "name": "python3"
  },
  "language_info": {
   "codemirror_mode": {
    "name": "ipython",
    "version": 3
   },
   "file_extension": ".py",
   "mimetype": "text/x-python",
   "name": "python",
   "nbconvert_exporter": "python",
   "pygments_lexer": "ipython3",
   "version": "3.8.5"
  }
 },
 "nbformat": 4,
 "nbformat_minor": 4
}
