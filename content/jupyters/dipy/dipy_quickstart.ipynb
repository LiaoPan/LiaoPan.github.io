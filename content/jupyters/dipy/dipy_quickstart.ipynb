{
 "cells": [
  {
   "cell_type": "code",
   "execution_count": 1,
   "metadata": {},
   "outputs": [
    {
     "name": "stdout",
     "output_type": "stream",
     "text": [
      "DIPY VERSION: 1.5.0\n",
      "PYTHON VERSION: 3.8.5\n"
     ]
    }
   ],
   "source": [
    "import dipy as dp\n",
    "import platform\n",
    "print(\"DIPY VERSION:\",dp.__version__)\n",
    "print(\"PYTHON VERSION:\",platform.python_version())"
   ]
  },
  {
   "cell_type": "code",
   "execution_count": 2,
   "metadata": {},
   "outputs": [],
   "source": [
    "from dipy.workflows.io import FetchFlow\n",
    "from tempfile import TemporaryDirectory # 官网上没有写，记得加上，不然后续报错"
   ]
  },
  {
   "cell_type": "code",
   "execution_count": 3,
   "metadata": {},
   "outputs": [
    {
     "name": "stdout",
     "output_type": "stream",
     "text": [
      "供下载的数据集名称:\n",
      " dict_keys(['bundle_atlas_hcp842', 'bundle_fa_hcp', 'bundles_2_subjects', 'cenir_multib', 'cfin_multib', 'file_formats', 'fury_surface', 'gold_standard_io', 'isbi2013_2shell', 'ivim', 'mni_template', 'qtdMRI_test_retest_2subjects', 'qte_lte_pte', 'resdnn_weights', 'scil_b0', 'sherbrooke_3shell', 'stanford_hardi', 'stanford_labels', 'stanford_pve_maps', 'stanford_t1', 'syn_data', 'taiwan_ntu_dsi', 'target_tractogram_hcp', 'tissue_data'])\n"
     ]
    }
   ],
   "source": [
    "available_data = FetchFlow.get_fetcher_datanames().keys()\n",
    "print(\"供下载的数据集名称:\\n\",available_data)\n",
    "\n",
    "# 或者访问https://dipy.org/documentation/1.5.0/data/#datasets，可在表格DIPY name一列查看所需数据集的名称"
   ]
  },
  {
   "cell_type": "code",
   "execution_count": 4,
   "metadata": {},
   "outputs": [
    {
     "name": "stdout",
     "output_type": "stream",
     "text": [
      "download dir: /var/folders/39/93zn2fy95cd9b_b38zvmvgjc0000gn/T/tmpj0ma4ij2\n",
      "\n",
      "\n"
     ]
    }
   ],
   "source": [
    "# 方式一:下载特定数据集\n",
    "fetch_flow = FetchFlow()\n",
    "with TemporaryDirectory() as outdir:\n",
    "    print(\"download dir:\",outdir)\n",
    "    fetch_flow.run(['bundle_fa_hcp'])"
   ]
  },
  {
   "cell_type": "code",
   "execution_count": 5,
   "metadata": {},
   "outputs": [
    {
     "data": {
      "application/vnd.jupyter.widget-view+json": {
       "model_id": "79a10f0ca3e74e8ebf535943a9e5fd2a",
       "version_major": 2,
       "version_minor": 0
      },
      "text/plain": [
       "  0%|          | 0/19503 [00:00<?, ? MB/s]"
      ]
     },
     "metadata": {},
     "output_type": "display_data"
    },
    {
     "ename": "FetcherError",
     "evalue": "The downloaded file, /Users/reallo/.dipy/bundle_atlas_hcp842/Atlas_80_Bundles.zip, does not have the expected md5\n   checksum of \"78331d527a10ec000d4f33bac472e099\". Instead, the md5 checksum was: \"e0a0101c4f1657f4540ed413bc80a143\". This could mean that\n   something is wrong with the file or that the upstream file has been updated.\n   You can try downloading the file again or updating to the newest version of\n   dipy.",
     "output_type": "error",
     "traceback": [
      "\u001b[0;31m---------------------------------------------------------------------------\u001b[0m",
      "\u001b[0;31mFetcherError\u001b[0m                              Traceback (most recent call last)",
      "\u001b[0;32m<ipython-input-5-799bb5cecaf0>\u001b[0m in \u001b[0;36m<module>\u001b[0;34m\u001b[0m\n\u001b[1;32m      1\u001b[0m \u001b[0;31m# 方式二: from dipy.data import fetch_<上面特定数据集的名称>\u001b[0m\u001b[0;34m\u001b[0m\u001b[0;34m\u001b[0m\u001b[0;34m\u001b[0m\u001b[0m\n\u001b[1;32m      2\u001b[0m \u001b[0;32mfrom\u001b[0m \u001b[0mdipy\u001b[0m\u001b[0;34m.\u001b[0m\u001b[0mdata\u001b[0m \u001b[0;32mimport\u001b[0m \u001b[0mfetch_bundle_atlas_hcp842\u001b[0m\u001b[0;34m\u001b[0m\u001b[0;34m\u001b[0m\u001b[0m\n\u001b[0;32m----> 3\u001b[0;31m \u001b[0mfiles\u001b[0m\u001b[0;34m,\u001b[0m\u001b[0mfolder\u001b[0m \u001b[0;34m=\u001b[0m \u001b[0mfetch_bundle_atlas_hcp842\u001b[0m\u001b[0;34m(\u001b[0m\u001b[0;34m)\u001b[0m\u001b[0;34m\u001b[0m\u001b[0;34m\u001b[0m\u001b[0m\n\u001b[0m\u001b[1;32m      4\u001b[0m \u001b[0mprint\u001b[0m\u001b[0;34m(\u001b[0m\u001b[0;34m\"files:\"\u001b[0m\u001b[0;34m,\u001b[0m\u001b[0mfiles\u001b[0m\u001b[0;34m,\u001b[0m\u001b[0;34m\"\\n folder:\"\u001b[0m\u001b[0;34m,\u001b[0m\u001b[0mfolder\u001b[0m\u001b[0;34m)\u001b[0m\u001b[0;34m\u001b[0m\u001b[0;34m\u001b[0m\u001b[0m\n",
      "\u001b[0;32m/usr/local/lib/python3.8/site-packages/dipy/data/fetcher.py\u001b[0m in \u001b[0;36mfetcher\u001b[0;34m()\u001b[0m\n\u001b[1;32m    195\u001b[0m             files[n] = (baseurl + f, md5_list[i] if\n\u001b[1;32m    196\u001b[0m                         md5_list is not None else None)\n\u001b[0;32m--> 197\u001b[0;31m         \u001b[0mfetch_data\u001b[0m\u001b[0;34m(\u001b[0m\u001b[0mfiles\u001b[0m\u001b[0;34m,\u001b[0m \u001b[0mfolder\u001b[0m\u001b[0;34m,\u001b[0m \u001b[0mdata_size\u001b[0m\u001b[0;34m)\u001b[0m\u001b[0;34m\u001b[0m\u001b[0;34m\u001b[0m\u001b[0m\n\u001b[0m\u001b[1;32m    198\u001b[0m \u001b[0;34m\u001b[0m\u001b[0m\n\u001b[1;32m    199\u001b[0m         \u001b[0;32mif\u001b[0m \u001b[0mmsg\u001b[0m \u001b[0;32mis\u001b[0m \u001b[0;32mnot\u001b[0m \u001b[0;32mNone\u001b[0m\u001b[0;34m:\u001b[0m\u001b[0;34m\u001b[0m\u001b[0;34m\u001b[0m\u001b[0m\n",
      "\u001b[0;32m/usr/local/lib/python3.8/site-packages/dipy/data/fetcher.py\u001b[0m in \u001b[0;36mfetch_data\u001b[0;34m(files, folder, data_size)\u001b[0m\n\u001b[1;32m    145\u001b[0m         \u001b[0m_log\u001b[0m\u001b[0;34m(\u001b[0m\u001b[0;34m'Downloading \"%s\" to %s'\u001b[0m \u001b[0;34m%\u001b[0m \u001b[0;34m(\u001b[0m\u001b[0mf\u001b[0m\u001b[0;34m,\u001b[0m \u001b[0mfolder\u001b[0m\u001b[0;34m)\u001b[0m\u001b[0;34m)\u001b[0m\u001b[0;34m\u001b[0m\u001b[0;34m\u001b[0m\u001b[0m\n\u001b[1;32m    146\u001b[0m         \u001b[0m_get_file_data\u001b[0m\u001b[0;34m(\u001b[0m\u001b[0mfullpath\u001b[0m\u001b[0;34m,\u001b[0m \u001b[0murl\u001b[0m\u001b[0;34m)\u001b[0m\u001b[0;34m\u001b[0m\u001b[0;34m\u001b[0m\u001b[0m\n\u001b[0;32m--> 147\u001b[0;31m         \u001b[0mcheck_md5\u001b[0m\u001b[0;34m(\u001b[0m\u001b[0mfullpath\u001b[0m\u001b[0;34m,\u001b[0m \u001b[0mmd5\u001b[0m\u001b[0;34m)\u001b[0m\u001b[0;34m\u001b[0m\u001b[0;34m\u001b[0m\u001b[0m\n\u001b[0m\u001b[1;32m    148\u001b[0m     \u001b[0;32mif\u001b[0m \u001b[0mall_skip\u001b[0m\u001b[0;34m:\u001b[0m\u001b[0;34m\u001b[0m\u001b[0;34m\u001b[0m\u001b[0m\n\u001b[1;32m    149\u001b[0m         \u001b[0m_already_there_msg\u001b[0m\u001b[0;34m(\u001b[0m\u001b[0mfolder\u001b[0m\u001b[0;34m)\u001b[0m\u001b[0;34m\u001b[0m\u001b[0;34m\u001b[0m\u001b[0m\n",
      "\u001b[0;32m/usr/local/lib/python3.8/site-packages/dipy/data/fetcher.py\u001b[0m in \u001b[0;36mcheck_md5\u001b[0;34m(filename, stored_md5)\u001b[0m\n\u001b[1;32m     90\u001b[0m    dipy.\"\"\" % (filename, stored_md5,\n\u001b[1;32m     91\u001b[0m                 computed_md5)\n\u001b[0;32m---> 92\u001b[0;31m             \u001b[0;32mraise\u001b[0m \u001b[0mFetcherError\u001b[0m\u001b[0;34m(\u001b[0m\u001b[0mmsg\u001b[0m\u001b[0;34m)\u001b[0m\u001b[0;34m\u001b[0m\u001b[0;34m\u001b[0m\u001b[0m\n\u001b[0m\u001b[1;32m     93\u001b[0m \u001b[0;34m\u001b[0m\u001b[0m\n\u001b[1;32m     94\u001b[0m \u001b[0;34m\u001b[0m\u001b[0m\n",
      "\u001b[0;31mFetcherError\u001b[0m: The downloaded file, /Users/reallo/.dipy/bundle_atlas_hcp842/Atlas_80_Bundles.zip, does not have the expected md5\n   checksum of \"78331d527a10ec000d4f33bac472e099\". Instead, the md5 checksum was: \"e0a0101c4f1657f4540ed413bc80a143\". This could mean that\n   something is wrong with the file or that the upstream file has been updated.\n   You can try downloading the file again or updating to the newest version of\n   dipy."
     ]
    }
   ],
   "source": [
    "# 方式二: from dipy.data import fetch_<上面特定数据集的名称>\n",
    "from dipy.data import fetch_bundle_atlas_hcp842\n",
    "files,folder = fetch_bundle_atlas_hcp842()\n",
    "print(\"files:\",files,\"\\n folder:\",folder)"
   ]
  }
 ],
 "metadata": {
  "kernelspec": {
   "display_name": "Python 3",
   "language": "python",
   "name": "python3"
  },
  "language_info": {
   "codemirror_mode": {
    "name": "ipython",
    "version": 3
   },
   "file_extension": ".py",
   "mimetype": "text/x-python",
   "name": "python",
   "nbconvert_exporter": "python",
   "pygments_lexer": "ipython3",
   "version": "3.8.5"
  }
 },
 "nbformat": 4,
 "nbformat_minor": 4
}
